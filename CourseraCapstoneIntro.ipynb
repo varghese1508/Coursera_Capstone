{
  "nbformat": 4,
  "nbformat_minor": 0,
  "metadata": {
    "colab": {
      "name": "Untitled5.ipynb",
      "provenance": [],
      "collapsed_sections": []
    },
    "kernelspec": {
      "name": "python3",
      "display_name": "Python 3"
    }
  },
  "cells": [
    {
      "cell_type": "markdown",
      "metadata": {
        "id": "jrvjbAX69eRt",
        "colab_type": "text"
      },
      "source": [
        "# __COURSERA CAPSTONE PROJECT__\n",
        "### _This Notebook was Created for the IBM Data Science Course Capstone Project._"
      ]
    },
    {
      "cell_type": "code",
      "metadata": {
        "id": "_K8D6as79b2d",
        "colab_type": "code",
        "colab": {
          "base_uri": "https://localhost:8080/",
          "height": 35
        },
        "outputId": "1c0cc669-fc78-4879-9051-49fa4c14d2d1"
      },
      "source": [
        "import pandas as pd\n",
        "import numpy as np\n",
        "print(\"Hello Capstone Project Course!\")"
      ],
      "execution_count": 1,
      "outputs": [
        {
          "output_type": "stream",
          "text": [
            "Hello Capstone Project Course!\n"
          ],
          "name": "stdout"
        }
      ]
    }
  ]
}
